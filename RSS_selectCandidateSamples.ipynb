{
 "cells": [
  {
   "cell_type": "markdown",
   "id": "d4f48298",
   "metadata": {},
   "source": [
    "# RSS - Filtering Candidate Samples\n",
    "\n"
   ]
  },
  {
   "cell_type": "markdown",
   "id": "d537caec",
   "metadata": {},
   "source": [
    "## 1. Imports and Inputs"
   ]
  },
  {
   "cell_type": "code",
   "execution_count": 184,
   "id": "da0be8e1",
   "metadata": {},
   "outputs": [],
   "source": [
    "import importlib\n",
    "from pathlib import Path\n",
    "\n",
    "import time\n",
    "import rasterio"
   ]
  },
  {
   "cell_type": "code",
   "execution_count": null,
   "id": "2a3d9e51",
   "metadata": {},
   "outputs": [
    {
     "data": {
      "text/plain": [
       "<module 'RSS_candidateSamples' from 'h:\\\\Meu Drive\\\\Artigo_Mestrado\\\\02_Scripts\\\\RSS_candidateSamples.py'>"
      ]
     },
     "execution_count": 60,
     "metadata": {},
     "output_type": "execute_result"
    }
   ],
   "source": [
    "# Importing module for selecting candidate samples\n",
    "import RSS_candidateSamples as rss1"
   ]
  },
  {
   "cell_type": "code",
   "execution_count": 182,
   "id": "1ad6a6ba",
   "metadata": {},
   "outputs": [],
   "source": [
    "wkdir = r\"H:\\Meu Drive\\Artigo_Mestrado\"\n",
    "\n",
    "coarse_file = Path(wkdir, r\"01_Imagens\\Sentinel2\\S2_resampled60m.tif\")\n",
    "fine_file = Path( wkdir, r\"02_Classificacao_1\\mosaico_classificacao.tif\")"
   ]
  },
  {
   "cell_type": "code",
   "execution_count": null,
   "id": "4ef2e023",
   "metadata": {},
   "outputs": [
    {
     "data": {
      "text/plain": [
       "WindowsPath('H:/Meu Drive/Artigo_Mestrado/03_RSS/RSS_candidateSamples_20250612.csv')"
      ]
     },
     "execution_count": 191,
     "metadata": {},
     "output_type": "execute_result"
    }
   ],
   "source": [
    "# Defining output paths for the CSV files\n",
    "today = time.strftime(\"%Y%m%d\")\n",
    "csv_out = Path( wkdir, rf\"03_RSS/RSS_candidateSamples_{today}.csv\")\n",
    "\n",
    "csv_filtered_out = Path( wkdir, rf\"03_RSS/RSS_candidateSamples_filtered_{today}.csv\")\n",
    "\n",
    "csv_out"
   ]
  },
  {
   "cell_type": "code",
   "execution_count": null,
   "id": "9a40a271",
   "metadata": {},
   "outputs": [],
   "source": [
    "# Set the instance of the RSS_CandidateSamples class\n",
    "\n",
    "importlib.reload(rss1)\n",
    "rss_candidatesamples = rss1.RSS_CandidateSamples(coarse_file=coarse_file,\n",
    "                                                  fine_file=fine_file,\n",
    "                                                  n_classes = 4,\n",
    "                                                  n_jobs=6)"
   ]
  },
  {
   "cell_type": "code",
   "execution_count": null,
   "id": "53294ba7",
   "metadata": {},
   "outputs": [],
   "source": [
    "# Process of selecting the candidate samples\n",
    "# This will take a while, depending on the size of the images and the number of classes\n",
    "df = rss_candidatesamples.rss_candidate_samples(paralel=True)"
   ]
  },
  {
   "cell_type": "code",
   "execution_count": null,
   "id": "3315f782",
   "metadata": {},
   "outputs": [],
   "source": [
    "# Save the candidate samples to a CSV file\n",
    "df.to_csv(Path(wkdir, \"candidates_samples.csv\"), index=False)"
   ]
  },
  {
   "cell_type": "code",
   "execution_count": null,
   "id": "075c47df",
   "metadata": {},
   "outputs": [],
   "source": [
    "# Filter the DataFrame to keep only rows where 'prop' is greater than or equal to 0.5\n",
    "df.loc[df['prop'] >= 0.5].to_csv(csv_filtered_out, index=False)"
   ]
  }
 ],
 "metadata": {
  "kernelspec": {
   "display_name": "geopa2",
   "language": "python",
   "name": "python3"
  },
  "language_info": {
   "codemirror_mode": {
    "name": "ipython",
    "version": 3
   },
   "file_extension": ".py",
   "mimetype": "text/x-python",
   "name": "python",
   "nbconvert_exporter": "python",
   "pygments_lexer": "ipython3",
   "version": "3.13.4"
  }
 },
 "nbformat": 4,
 "nbformat_minor": 5
}
